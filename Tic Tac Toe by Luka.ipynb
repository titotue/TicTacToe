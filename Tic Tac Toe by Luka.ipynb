{
 "cells": [
  {
   "cell_type": "code",
   "execution_count": 60,
   "id": "e7fcad3a",
   "metadata": {},
   "outputs": [],
   "source": [
    "def game_rules():\n",
    "    print(\"Hi! This is a Tic Tac Toe game created by Luka. The rules follow as such: \")\n",
    "    print(\"The first player chooses either X or O, and the X player starts.\")\n",
    "    print(\"First person to do a whole line of 3 of their symbols wins!\")"
   ]
  },
  {
   "cell_type": "code",
   "execution_count": 61,
   "id": "142fe41d",
   "metadata": {},
   "outputs": [],
   "source": [
    "def display_boardclear():\n",
    "    boardclear = [\" \",\" \",\" \",\" \",\" \",\" \",\" \",\" \",\" \",\" \"]\n",
    "    print(\" {} | {} | {} \".format(boardclear[7],boardclear[8],boardclear[9]))\n",
    "    print(\"-----------\")\n",
    "    print(\" {} | {} | {} \".format(boardclear[4],boardclear[5],boardclear[6]))\n",
    "    print(\"-----------\")\n",
    "    print(\" {} | {} | {} \".format(boardclear[1],boardclear[2],boardclear[3]))"
   ]
  },
  {
   "cell_type": "code",
   "execution_count": 62,
   "id": "1b1732c7",
   "metadata": {},
   "outputs": [],
   "source": [
    "def player_input():\n",
    "    \n",
    "    marker = \"\"\n",
    "    \n",
    "    while marker != \"X\" and marker != \"O\":\n",
    "        marker = input(\"Player 1, choose X or O: \").upper()\n",
    "        if marker != \"X\" and marker != \"O\":\n",
    "            print(\"This option is not yet supported, please pick again! \")\n",
    "    \n",
    "    player1 = marker\n",
    "    \n",
    "    if player1 == \"X\":\n",
    "        player2 = \"O\"\n",
    "        print(f\"Alright, player 1 is {player1} and player 2 is {player2}\")\n",
    "        return (\"X\",\"O\")\n",
    "    if player1 == \"O\":\n",
    "        player2 = \"X\"\n",
    "        print(f\"Alright, player 1 is {player1} and player 2 is {player2}\")\n",
    "        return (\"O\",\"X\")"
   ]
  },
  {
   "cell_type": "code",
   "execution_count": 64,
   "id": "a8b71735",
   "metadata": {},
   "outputs": [],
   "source": [
    "board = [\"#\",\"1\",\"2\",\"3\",\"4\",\"5\",\"6\",\"7\",\"8\",\"9\"]\n",
    "\n",
    "def display_board(board):\n",
    "\n",
    "    print(\" {} | {} | {} \".format(board[7],board[8],board[9]))\n",
    "    print(\"-----------\")\n",
    "    print(\" {} | {} | {} \".format(board[4],board[5],board[6]))\n",
    "    print(\"-----------\")\n",
    "    print(\" {} | {} | {} \".format(board[1],board[2],board[3]))"
   ]
  },
  {
   "cell_type": "code",
   "execution_count": 65,
   "id": "7a725679",
   "metadata": {},
   "outputs": [],
   "source": [
    "rounds = []\n",
    "\n",
    "def position_choice(rounds,board):\n",
    "\n",
    "    choice = \"\"\n",
    "    \n",
    "    while choice not in board or choice in [\"X\",\"O\"]:\n",
    "        if len(rounds) % 2 == 0:\n",
    "            choice = input(\"Player 1, pick a position where to place your move (1-9)\")\n",
    "        \n",
    "        if len(rounds) % 2 == 1:\n",
    "            choice = input(\"Player 2, pick a position where to place your move (1-9)\")\n",
    "        \n",
    "        if choice not in board or choice in [\"X\",\"O\"]:\n",
    "            print(\"Sorry, but you did not choose a valid position.\")\n",
    "    \n",
    "    rounds = rounds.append(1)\n",
    "    return int(choice)"
   ]
  },
  {
   "cell_type": "code",
   "execution_count": 66,
   "id": "a2c9bc46",
   "metadata": {},
   "outputs": [],
   "source": [
    "def replacement_choice(rounds,board,position,player1,player2):\n",
    "    \n",
    "    if len(rounds) % 2 == 1:\n",
    "        \n",
    "        board[position] = f\"{player1}\"\n",
    "    else:\n",
    "        board[position] = f\"{player2}\"\n",
    "    \n",
    "    return board"
   ]
  },
  {
   "cell_type": "code",
   "execution_count": 67,
   "id": "86ff5c0f",
   "metadata": {},
   "outputs": [],
   "source": [
    "def win(board):\n",
    "    if board[7] != \"7\" and board[7] == board[4] and board[7] == board[1]:\n",
    "        print(\"You win!!!\")\n",
    "        return True\n",
    "    if board[8] != \"8\" and board[8] == board[5] and board[8]== board[2]:\n",
    "        print(\"You win!!!\")\n",
    "        return True\n",
    "    if board[9] != \"9\" and board[9] == board[6] and board[9]== board[3]:\n",
    "        print(\"You win!!!\")\n",
    "        return True\n",
    "    if board[7] != \"7\" and board[7] == board[8] and board[7]== board[9]:\n",
    "        print(\"You win!!!\")\n",
    "        return True\n",
    "    if board[4] != \"4\" and board[4] == board[5] and board[4]== board[6]:\n",
    "        print(\"You win!!!\")\n",
    "        return True\n",
    "    if board[1] != \"1\" and board[1] == board[2] and board[1]== board[3]:\n",
    "        print(\"You win!!!\")\n",
    "        return True\n",
    "    if board[7] != \"7\" and board[7] == board[5] and board[7]== board[3]:\n",
    "        print(\"You win!!!\")\n",
    "        return True\n",
    "    if board[1] != \"1\" and board[1] == board[5] and board[1]== board[9]:\n",
    "        print(\"You win!!!\")\n",
    "        return True\n",
    "    if set(board) == {\"#\",\"O\",\"X\"}:\n",
    "        print(\"That's a tie!\")\n",
    "        return True\n",
    "    else:\n",
    "        return False"
   ]
  },
  {
   "cell_type": "code",
   "execution_count": 68,
   "id": "5be3489d",
   "metadata": {},
   "outputs": [],
   "source": [
    "def gameon_choice():\n",
    "\n",
    "    choice = \"\"\n",
    "    \n",
    "    while choice not in [\"y\",\"n\"]:\n",
    "        \n",
    "        choice = input(\"Would you like to keep playing? Y or N  \").lower()\n",
    "        \n",
    "        if choice not in [\"y\",\"n\"]:\n",
    "            clear_output()\n",
    "            print(\"Sorry, I didn't understand. Please make sure to choose Y or N.\")\n",
    "            \n",
    "    return choice.startswith(\"y\")"
   ]
  },
  {
   "cell_type": "code",
   "execution_count": 69,
   "id": "0738fe33",
   "metadata": {
    "scrolled": true
   },
   "outputs": [
    {
     "name": "stdout",
     "output_type": "stream",
     "text": [
      " 7 | O | O \n",
      "-----------\n",
      " 4 | X | X \n",
      "-----------\n",
      " 1 | 2 | 3 \n",
      "Player 1, pick a position where to place your move (1-9)4\n",
      " 7 | O | O \n",
      "-----------\n",
      " X | X | X \n",
      "-----------\n",
      " 1 | 2 | 3 \n",
      "You win!!!\n",
      "Would you like to keep playing? Y or N  n\n"
     ]
    }
   ],
   "source": [
    "from IPython.display import clear_output\n",
    "game_on = True\n",
    "\n",
    "display_boardclear()\n",
    "game_rules()\n",
    "print(\"\")\n",
    "\n",
    "while game_on:\n",
    "    player1,player2 = player_input()\n",
    "    print(\"\")\n",
    "    w = False\n",
    "    board = [\"#\",\"1\",\"2\",\"3\",\"4\",\"5\",\"6\",\"7\",\"8\",\"9\"]\n",
    "    rounds = []\n",
    "    while not w:\n",
    "        clear_output()\n",
    "        display_board(board)\n",
    "        position = position_choice(rounds,board)\n",
    "        board = replacement_choice(rounds,board,position,player1,player2)\n",
    "        display_board(board)\n",
    "        w = win(board)\n",
    "\n",
    "        \n",
    "    game_on = gameon_choice()"
   ]
  },
  {
   "cell_type": "code",
   "execution_count": null,
   "id": "0e96c66f",
   "metadata": {},
   "outputs": [],
   "source": []
  }
 ],
 "metadata": {
  "kernelspec": {
   "display_name": "Python 3",
   "language": "python",
   "name": "python3"
  },
  "language_info": {
   "codemirror_mode": {
    "name": "ipython",
    "version": 3
   },
   "file_extension": ".py",
   "mimetype": "text/x-python",
   "name": "python",
   "nbconvert_exporter": "python",
   "pygments_lexer": "ipython3",
   "version": "3.8.8"
  }
 },
 "nbformat": 4,
 "nbformat_minor": 5
}
